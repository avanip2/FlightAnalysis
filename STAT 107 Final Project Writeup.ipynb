{
 "cells": [
  {
   "cell_type": "markdown",
   "metadata": {},
   "source": [
    "STAT 107\n",
    "Avani Puranik\n",
    "The Statistical Significance of Flight Information\n",
    "\n",
    "Hypothesis Test 1: For the first test, we were asked to compare the average arrival delays of United flights and American Airlines flights in the month of December from ORD to LAX. My approach to this hypothesis test was to see if there was a significant difference between these two population means that could be shown by the data provided. First, I checked if the conditions of two sample sizes greater than or equal to 30 were met, which was true because the sample sizes were n1 = 280 and n2 = 302. Since I wanted to find out whether there was a difference between the arrival delay of the two populations, I set up my alternate hypothesis to determine if the difference between the two population means was not 0, utilizing a two-sided hypothesis test. After determining the mean and standard deviation of both populations, I computed the z-statistic using the formula for two population mean tests. Using this value, I was able to apply CLT to use norm.cdf to determine the p-value. In my conclusion, I noticed that the p-value was not less than the alpha significance value, so I did not have evidence to reject the null hypothesis. \n",
    "\n",
    "Hypothesis Test 2: For the second test, we were asked to compare the proportion of arrival delays greater than 60 minutes among United and American Airlines flights in the month of December from ORD to LAX. My approach to this hypothesis test was to determine if there was a significant difference between the proportion of flights in these populations that had an arrival delay greater than 60 minutes. First, I checked if the conditions to do this test were met by determining if the sample size times the proportion and (1 - proportion) for both populations were greater than 10, which I determined to be true. I set up my alternate hypothesis to determine if there was a difference between the two population proportions, utilizing a two-sided hypothesis test. After determining the proportion of the samples that exceeded an arrival delay of 60 minutes, I computed p_hat using those two values and determined the z-test statistic. Using this value, I was able to apply CLT to use norm.cdf to determine the p-value. In my conclusion, I stated that the p-value was not less than the alpha significance value, so the data did not provide evidence to reject the null hypothesis. \n",
    "\n",
    "Hypothesis Test 3: For the third hypothesis test, I decided to focus on the question of whether the average arrival delay for Delta Airlines flights from ORD to ATL in December was greater than that of the month of February due to the increased travel during the month of December. Since I wanted to determine if the population of December flights had a greater average arrival delay, I set up my alternate hypothesis to say that the population mean of flights in December was greater than the population mean of flights in February. First, I checked if the conditions to apply this test were both sample sizes being greater than or equal to 30, which I determined to be true with n1 = 289 and n2 = 308. After calculating the sample means and standard deviations of both samples, I was able to plug these values in to determine the z-statistic value. Finally, I applied CLT to use norm.cdf to determine the p-value. In my conclusion, I determined that the data did not provide sufficient evidence to reject the null hypothesis and claim that average arrival delays were greater in December compared to February. \n",
    "\n",
    "Hypothesis Test 4: For the final hypothesis test, I used the Bonferroni correction to conduct the three tests above with a family-wise error rate of a = 0.05. Using this value of a and n of 3 due to three tests being conducted, I determined that the new alpha using the formula a/n was a = 0.0167. Using this new value of a, I restated my conclusions based on the p-values calculated while performing the tests. All three conclusions remained the same as a result of this new alpha value. "
   ]
  }
 ],
 "metadata": {
  "kernelspec": {
   "display_name": "Python 3",
   "language": "python",
   "name": "python3"
  },
  "language_info": {
   "codemirror_mode": {
    "name": "ipython",
    "version": 3
   },
   "file_extension": ".py",
   "mimetype": "text/x-python",
   "name": "python",
   "nbconvert_exporter": "python",
   "pygments_lexer": "ipython3",
   "version": "3.8.3"
  }
 },
 "nbformat": 4,
 "nbformat_minor": 4
}
